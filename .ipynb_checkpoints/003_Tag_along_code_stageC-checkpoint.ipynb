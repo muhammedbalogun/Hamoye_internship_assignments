{
 "cells": [
  {
   "cell_type": "markdown",
   "id": "c38efed6",
   "metadata": {},
   "source": [
    "# Classification ML Quiz"
   ]
  },
  {
   "cell_type": "code",
   "execution_count": 1,
   "id": "40bdb06e",
   "metadata": {},
   "outputs": [],
   "source": [
    "# import required libraries\n",
    "import numpy as np\n",
    "import pandas as pd\n",
    "import matplotlib.pyplot as plt\n",
    "import seaborn as sns\n",
    "%matplotlib inline"
   ]
  },
  {
   "cell_type": "code",
   "execution_count": 2,
   "id": "0ad615f9",
   "metadata": {},
   "outputs": [],
   "source": [
    "# preliminary assessment function\n",
    "\n",
    "def assess_data(file, encoding='utf-8'):\n",
    "    \n",
    "    # read file\n",
    "    df = pd.read_csv(file, encoding=encoding)\n",
    "    \n",
    "    # check header\n",
    "    print(\"The First Five Observations in DataFrame\")\n",
    "    display(df.head())\n",
    "    print('\\n')\n",
    "    \n",
    "    # check tail\n",
    "    print(\"The Last Five Observations in DataFrame\")\n",
    "    display(df.tail())\n",
    "    print('\\n')\n",
    "    \n",
    "    # check shape of df\n",
    "    print(\"The Shape of DataFrame\")\n",
    "    print(df.shape)\n",
    "    print('\\n')\n",
    "    \n",
    "    # check info of df\n",
    "    print(\"Basic Information of DataFrame\")\n",
    "    print('\\n')\n",
    "    display(df.info())\n",
    "    print('\\n')\n",
    "    \n",
    "    # check number of unique values in df\n",
    "    print(\"Number of Unique Values in DataFrame\")\n",
    "    print('\\n')\n",
    "    print(df.nunique())\n",
    "    print('\\n')\n",
    "    \n",
    "    # check number of missing values in df\n",
    "    print(\"Number of Missing Values in DataFrame\")\n",
    "    print('\\n')\n",
    "    print(df.isnull().sum())\n",
    "    print('\\n')\n",
    "    \n",
    "    # check number duplicates in df\n",
    "    print(\"Number of Duplicates in DataFrame\")\n",
    "    print(\"Number of duplicates: \", df.duplicated().sum())\n",
    "    \n",
    "    return df"
   ]
  },
  {
   "cell_type": "code",
   "execution_count": 3,
   "id": "9ee34e98",
   "metadata": {},
   "outputs": [
    {
     "name": "stdout",
     "output_type": "stream",
     "text": [
      "The First Five Observations in DataFrame\n"
     ]
    },
    {
     "data": {
      "text/html": [
       "<div>\n",
       "<style scoped>\n",
       "    .dataframe tbody tr th:only-of-type {\n",
       "        vertical-align: middle;\n",
       "    }\n",
       "\n",
       "    .dataframe tbody tr th {\n",
       "        vertical-align: top;\n",
       "    }\n",
       "\n",
       "    .dataframe thead th {\n",
       "        text-align: right;\n",
       "    }\n",
       "</style>\n",
       "<table border=\"1\" class=\"dataframe\">\n",
       "  <thead>\n",
       "    <tr style=\"text-align: right;\">\n",
       "      <th></th>\n",
       "      <th>tau1</th>\n",
       "      <th>tau2</th>\n",
       "      <th>tau3</th>\n",
       "      <th>tau4</th>\n",
       "      <th>p1</th>\n",
       "      <th>p2</th>\n",
       "      <th>p3</th>\n",
       "      <th>p4</th>\n",
       "      <th>g1</th>\n",
       "      <th>g2</th>\n",
       "      <th>g3</th>\n",
       "      <th>g4</th>\n",
       "      <th>stab</th>\n",
       "      <th>stabf</th>\n",
       "    </tr>\n",
       "  </thead>\n",
       "  <tbody>\n",
       "    <tr>\n",
       "      <th>0</th>\n",
       "      <td>2.959060</td>\n",
       "      <td>3.079885</td>\n",
       "      <td>8.381025</td>\n",
       "      <td>9.780754</td>\n",
       "      <td>3.763085</td>\n",
       "      <td>-0.782604</td>\n",
       "      <td>-1.257395</td>\n",
       "      <td>-1.723086</td>\n",
       "      <td>0.650456</td>\n",
       "      <td>0.859578</td>\n",
       "      <td>0.887445</td>\n",
       "      <td>0.958034</td>\n",
       "      <td>0.055347</td>\n",
       "      <td>unstable</td>\n",
       "    </tr>\n",
       "    <tr>\n",
       "      <th>1</th>\n",
       "      <td>9.304097</td>\n",
       "      <td>4.902524</td>\n",
       "      <td>3.047541</td>\n",
       "      <td>1.369357</td>\n",
       "      <td>5.067812</td>\n",
       "      <td>-1.940058</td>\n",
       "      <td>-1.872742</td>\n",
       "      <td>-1.255012</td>\n",
       "      <td>0.413441</td>\n",
       "      <td>0.862414</td>\n",
       "      <td>0.562139</td>\n",
       "      <td>0.781760</td>\n",
       "      <td>-0.005957</td>\n",
       "      <td>stable</td>\n",
       "    </tr>\n",
       "    <tr>\n",
       "      <th>2</th>\n",
       "      <td>8.971707</td>\n",
       "      <td>8.848428</td>\n",
       "      <td>3.046479</td>\n",
       "      <td>1.214518</td>\n",
       "      <td>3.405158</td>\n",
       "      <td>-1.207456</td>\n",
       "      <td>-1.277210</td>\n",
       "      <td>-0.920492</td>\n",
       "      <td>0.163041</td>\n",
       "      <td>0.766689</td>\n",
       "      <td>0.839444</td>\n",
       "      <td>0.109853</td>\n",
       "      <td>0.003471</td>\n",
       "      <td>unstable</td>\n",
       "    </tr>\n",
       "    <tr>\n",
       "      <th>3</th>\n",
       "      <td>0.716415</td>\n",
       "      <td>7.669600</td>\n",
       "      <td>4.486641</td>\n",
       "      <td>2.340563</td>\n",
       "      <td>3.963791</td>\n",
       "      <td>-1.027473</td>\n",
       "      <td>-1.938944</td>\n",
       "      <td>-0.997374</td>\n",
       "      <td>0.446209</td>\n",
       "      <td>0.976744</td>\n",
       "      <td>0.929381</td>\n",
       "      <td>0.362718</td>\n",
       "      <td>0.028871</td>\n",
       "      <td>unstable</td>\n",
       "    </tr>\n",
       "    <tr>\n",
       "      <th>4</th>\n",
       "      <td>3.134112</td>\n",
       "      <td>7.608772</td>\n",
       "      <td>4.943759</td>\n",
       "      <td>9.857573</td>\n",
       "      <td>3.525811</td>\n",
       "      <td>-1.125531</td>\n",
       "      <td>-1.845975</td>\n",
       "      <td>-0.554305</td>\n",
       "      <td>0.797110</td>\n",
       "      <td>0.455450</td>\n",
       "      <td>0.656947</td>\n",
       "      <td>0.820923</td>\n",
       "      <td>0.049860</td>\n",
       "      <td>unstable</td>\n",
       "    </tr>\n",
       "  </tbody>\n",
       "</table>\n",
       "</div>"
      ],
      "text/plain": [
       "       tau1      tau2      tau3      tau4        p1        p2        p3  \\\n",
       "0  2.959060  3.079885  8.381025  9.780754  3.763085 -0.782604 -1.257395   \n",
       "1  9.304097  4.902524  3.047541  1.369357  5.067812 -1.940058 -1.872742   \n",
       "2  8.971707  8.848428  3.046479  1.214518  3.405158 -1.207456 -1.277210   \n",
       "3  0.716415  7.669600  4.486641  2.340563  3.963791 -1.027473 -1.938944   \n",
       "4  3.134112  7.608772  4.943759  9.857573  3.525811 -1.125531 -1.845975   \n",
       "\n",
       "         p4        g1        g2        g3        g4      stab     stabf  \n",
       "0 -1.723086  0.650456  0.859578  0.887445  0.958034  0.055347  unstable  \n",
       "1 -1.255012  0.413441  0.862414  0.562139  0.781760 -0.005957    stable  \n",
       "2 -0.920492  0.163041  0.766689  0.839444  0.109853  0.003471  unstable  \n",
       "3 -0.997374  0.446209  0.976744  0.929381  0.362718  0.028871  unstable  \n",
       "4 -0.554305  0.797110  0.455450  0.656947  0.820923  0.049860  unstable  "
      ]
     },
     "metadata": {},
     "output_type": "display_data"
    },
    {
     "name": "stdout",
     "output_type": "stream",
     "text": [
      "\n",
      "\n",
      "The Last Five Observations in DataFrame\n"
     ]
    },
    {
     "data": {
      "text/html": [
       "<div>\n",
       "<style scoped>\n",
       "    .dataframe tbody tr th:only-of-type {\n",
       "        vertical-align: middle;\n",
       "    }\n",
       "\n",
       "    .dataframe tbody tr th {\n",
       "        vertical-align: top;\n",
       "    }\n",
       "\n",
       "    .dataframe thead th {\n",
       "        text-align: right;\n",
       "    }\n",
       "</style>\n",
       "<table border=\"1\" class=\"dataframe\">\n",
       "  <thead>\n",
       "    <tr style=\"text-align: right;\">\n",
       "      <th></th>\n",
       "      <th>tau1</th>\n",
       "      <th>tau2</th>\n",
       "      <th>tau3</th>\n",
       "      <th>tau4</th>\n",
       "      <th>p1</th>\n",
       "      <th>p2</th>\n",
       "      <th>p3</th>\n",
       "      <th>p4</th>\n",
       "      <th>g1</th>\n",
       "      <th>g2</th>\n",
       "      <th>g3</th>\n",
       "      <th>g4</th>\n",
       "      <th>stab</th>\n",
       "      <th>stabf</th>\n",
       "    </tr>\n",
       "  </thead>\n",
       "  <tbody>\n",
       "    <tr>\n",
       "      <th>9995</th>\n",
       "      <td>2.930406</td>\n",
       "      <td>9.487627</td>\n",
       "      <td>2.376523</td>\n",
       "      <td>6.187797</td>\n",
       "      <td>3.343416</td>\n",
       "      <td>-0.658054</td>\n",
       "      <td>-1.449106</td>\n",
       "      <td>-1.236256</td>\n",
       "      <td>0.601709</td>\n",
       "      <td>0.779642</td>\n",
       "      <td>0.813512</td>\n",
       "      <td>0.608385</td>\n",
       "      <td>0.023892</td>\n",
       "      <td>unstable</td>\n",
       "    </tr>\n",
       "    <tr>\n",
       "      <th>9996</th>\n",
       "      <td>3.392299</td>\n",
       "      <td>1.274827</td>\n",
       "      <td>2.954947</td>\n",
       "      <td>6.894759</td>\n",
       "      <td>4.349512</td>\n",
       "      <td>-1.663661</td>\n",
       "      <td>-0.952437</td>\n",
       "      <td>-1.733414</td>\n",
       "      <td>0.502079</td>\n",
       "      <td>0.567242</td>\n",
       "      <td>0.285880</td>\n",
       "      <td>0.366120</td>\n",
       "      <td>-0.025803</td>\n",
       "      <td>stable</td>\n",
       "    </tr>\n",
       "    <tr>\n",
       "      <th>9997</th>\n",
       "      <td>2.364034</td>\n",
       "      <td>2.842030</td>\n",
       "      <td>8.776391</td>\n",
       "      <td>1.008906</td>\n",
       "      <td>4.299976</td>\n",
       "      <td>-1.380719</td>\n",
       "      <td>-0.943884</td>\n",
       "      <td>-1.975373</td>\n",
       "      <td>0.487838</td>\n",
       "      <td>0.986505</td>\n",
       "      <td>0.149286</td>\n",
       "      <td>0.145984</td>\n",
       "      <td>-0.031810</td>\n",
       "      <td>stable</td>\n",
       "    </tr>\n",
       "    <tr>\n",
       "      <th>9998</th>\n",
       "      <td>9.631511</td>\n",
       "      <td>3.994398</td>\n",
       "      <td>2.757071</td>\n",
       "      <td>7.821347</td>\n",
       "      <td>2.514755</td>\n",
       "      <td>-0.966330</td>\n",
       "      <td>-0.649915</td>\n",
       "      <td>-0.898510</td>\n",
       "      <td>0.365246</td>\n",
       "      <td>0.587558</td>\n",
       "      <td>0.889118</td>\n",
       "      <td>0.818391</td>\n",
       "      <td>0.037789</td>\n",
       "      <td>unstable</td>\n",
       "    </tr>\n",
       "    <tr>\n",
       "      <th>9999</th>\n",
       "      <td>6.530527</td>\n",
       "      <td>6.781790</td>\n",
       "      <td>4.349695</td>\n",
       "      <td>8.673138</td>\n",
       "      <td>3.492807</td>\n",
       "      <td>-1.390285</td>\n",
       "      <td>-1.532193</td>\n",
       "      <td>-0.570329</td>\n",
       "      <td>0.073056</td>\n",
       "      <td>0.505441</td>\n",
       "      <td>0.378761</td>\n",
       "      <td>0.942631</td>\n",
       "      <td>0.045263</td>\n",
       "      <td>unstable</td>\n",
       "    </tr>\n",
       "  </tbody>\n",
       "</table>\n",
       "</div>"
      ],
      "text/plain": [
       "          tau1      tau2      tau3      tau4        p1        p2        p3  \\\n",
       "9995  2.930406  9.487627  2.376523  6.187797  3.343416 -0.658054 -1.449106   \n",
       "9996  3.392299  1.274827  2.954947  6.894759  4.349512 -1.663661 -0.952437   \n",
       "9997  2.364034  2.842030  8.776391  1.008906  4.299976 -1.380719 -0.943884   \n",
       "9998  9.631511  3.994398  2.757071  7.821347  2.514755 -0.966330 -0.649915   \n",
       "9999  6.530527  6.781790  4.349695  8.673138  3.492807 -1.390285 -1.532193   \n",
       "\n",
       "            p4        g1        g2        g3        g4      stab     stabf  \n",
       "9995 -1.236256  0.601709  0.779642  0.813512  0.608385  0.023892  unstable  \n",
       "9996 -1.733414  0.502079  0.567242  0.285880  0.366120 -0.025803    stable  \n",
       "9997 -1.975373  0.487838  0.986505  0.149286  0.145984 -0.031810    stable  \n",
       "9998 -0.898510  0.365246  0.587558  0.889118  0.818391  0.037789  unstable  \n",
       "9999 -0.570329  0.073056  0.505441  0.378761  0.942631  0.045263  unstable  "
      ]
     },
     "metadata": {},
     "output_type": "display_data"
    },
    {
     "name": "stdout",
     "output_type": "stream",
     "text": [
      "\n",
      "\n",
      "The Shape of DataFrame\n",
      "(10000, 14)\n",
      "\n",
      "\n",
      "Basic Information of DataFrame\n",
      "\n",
      "\n",
      "<class 'pandas.core.frame.DataFrame'>\n",
      "RangeIndex: 10000 entries, 0 to 9999\n",
      "Data columns (total 14 columns):\n",
      " #   Column  Non-Null Count  Dtype  \n",
      "---  ------  --------------  -----  \n",
      " 0   tau1    10000 non-null  float64\n",
      " 1   tau2    10000 non-null  float64\n",
      " 2   tau3    10000 non-null  float64\n",
      " 3   tau4    10000 non-null  float64\n",
      " 4   p1      10000 non-null  float64\n",
      " 5   p2      10000 non-null  float64\n",
      " 6   p3      10000 non-null  float64\n",
      " 7   p4      10000 non-null  float64\n",
      " 8   g1      10000 non-null  float64\n",
      " 9   g2      10000 non-null  float64\n",
      " 10  g3      10000 non-null  float64\n",
      " 11  g4      10000 non-null  float64\n",
      " 12  stab    10000 non-null  float64\n",
      " 13  stabf   10000 non-null  object \n",
      "dtypes: float64(13), object(1)\n",
      "memory usage: 1.1+ MB\n"
     ]
    },
    {
     "data": {
      "text/plain": [
       "None"
      ]
     },
     "metadata": {},
     "output_type": "display_data"
    },
    {
     "name": "stdout",
     "output_type": "stream",
     "text": [
      "\n",
      "\n",
      "Number of Unique Values in DataFrame\n",
      "\n",
      "\n",
      "tau1     10000\n",
      "tau2     10000\n",
      "tau3     10000\n",
      "tau4     10000\n",
      "p1       10000\n",
      "p2       10000\n",
      "p3       10000\n",
      "p4       10000\n",
      "g1       10000\n",
      "g2       10000\n",
      "g3       10000\n",
      "g4       10000\n",
      "stab     10000\n",
      "stabf        2\n",
      "dtype: int64\n",
      "\n",
      "\n",
      "Number of Missing Values in DataFrame\n",
      "\n",
      "\n",
      "tau1     0\n",
      "tau2     0\n",
      "tau3     0\n",
      "tau4     0\n",
      "p1       0\n",
      "p2       0\n",
      "p3       0\n",
      "p4       0\n",
      "g1       0\n",
      "g2       0\n",
      "g3       0\n",
      "g4       0\n",
      "stab     0\n",
      "stabf    0\n",
      "dtype: int64\n",
      "\n",
      "\n",
      "Number of Duplicates in DataFrame\n",
      "Number of duplicates:  0\n"
     ]
    }
   ],
   "source": [
    "url = 'https://archive.ics.uci.edu/ml/machine-learning-databases/00471/Data_for_UCI_named.csv'\n",
    "\n",
    "# load data and assess data\n",
    "df = assess_data(url)"
   ]
  },
  {
   "cell_type": "code",
   "execution_count": 4,
   "id": "050ade6d",
   "metadata": {},
   "outputs": [],
   "source": [
    "# make a copy\n",
    "df_class = df.copy()"
   ]
  },
  {
   "cell_type": "code",
   "execution_count": 5,
   "id": "e40318d6",
   "metadata": {},
   "outputs": [
    {
     "data": {
      "text/plain": [
       "Index(['tau1', 'tau2', 'tau3', 'tau4', 'p1', 'p2', 'p3', 'p4', 'g1', 'g2',\n",
       "       'g3', 'g4', 'stabf'],\n",
       "      dtype='object')"
      ]
     },
     "execution_count": 5,
     "metadata": {},
     "output_type": "execute_result"
    }
   ],
   "source": [
    "# drop stab column\n",
    "df_class = df_class.drop('stab', axis=1)\n",
    "df_class.columns"
   ]
  },
  {
   "cell_type": "code",
   "execution_count": 6,
   "id": "bb728c16",
   "metadata": {},
   "outputs": [],
   "source": [
    "# divide data to feature and target\n",
    "X = df_class.drop(columns='stabf')\n",
    "y = df_class['stabf']"
   ]
  },
  {
   "cell_type": "code",
   "execution_count": 7,
   "id": "382c10b1",
   "metadata": {},
   "outputs": [
    {
     "data": {
      "text/plain": [
       "unstable    5092\n",
       "stable      2908\n",
       "Name: stabf, dtype: int64"
      ]
     },
     "execution_count": 7,
     "metadata": {},
     "output_type": "execute_result"
    }
   ],
   "source": [
    "# split the data into training and testing sets\n",
    "from sklearn.model_selection import train_test_split\n",
    "\n",
    "x_train, x_test, y_train, y_test = train_test_split(X, y, test_size=0.2, random_state=1)\n",
    "y_train.value_counts()"
   ]
  },
  {
   "cell_type": "code",
   "execution_count": 8,
   "id": "8faf41d1",
   "metadata": {},
   "outputs": [],
   "source": [
    "from sklearn.preprocessing import StandardScaler\n",
    "scaler = StandardScaler()\n",
    "\n",
    "# transform training data\n",
    "normalised_train_df = scaler.fit_transform(x_train)\n",
    "\n",
    "# transform test data\n",
    "x_test = x_test.reset_index(drop=True)\n",
    "normalised_test_df = scaler.transform(x_test)"
   ]
  },
  {
   "cell_type": "code",
   "execution_count": 9,
   "id": "1471cb02",
   "metadata": {},
   "outputs": [],
   "source": [
    "# import classification models and performance metrics\n",
    "from sklearn.ensemble import RandomForestClassifier, ExtraTreesClassifier\n",
    "from sklearn.metrics import recall_score, accuracy_score, precision_score, f1_score, confusion_matrix\n",
    "from sklearn.model_selection import cross_val_score\n",
    "import xgboost as xgb\n",
    "import lightgbm as lgb"
   ]
  },
  {
   "cell_type": "markdown",
   "id": "b91abd50",
   "metadata": {},
   "source": [
    "### Random Forest"
   ]
  },
  {
   "cell_type": "code",
   "execution_count": 10,
   "id": "68585981",
   "metadata": {},
   "outputs": [],
   "source": [
    "# Random forest\n",
    "rand_model = RandomForestClassifier(random_state=1)\n",
    "rand_model.fit(normalised_train_df, y_train)\n",
    "rand_pred = rand_model.predict(normalised_test_df)"
   ]
  },
  {
   "cell_type": "code",
   "execution_count": 11,
   "id": "739bed31",
   "metadata": {},
   "outputs": [
    {
     "data": {
      "text/plain": [
       "array([[1233,   55],\n",
       "       [  87,  625]], dtype=int64)"
      ]
     },
     "execution_count": 11,
     "metadata": {},
     "output_type": "execute_result"
    }
   ],
   "source": [
    "# Confusion Matrix\n",
    "cnf_mat = confusion_matrix(y_true=y_test, y_pred=rand_pred, labels=['unstable', 'stable'])\n",
    "cnf_mat"
   ]
  },
  {
   "cell_type": "code",
   "execution_count": 12,
   "id": "8d2618c6",
   "metadata": {},
   "outputs": [
    {
     "name": "stdout",
     "output_type": "stream",
     "text": [
      "Accuracy: 93\n"
     ]
    }
   ],
   "source": [
    "# Accuracy\n",
    "accuracy = accuracy_score(y_true=y_test, y_pred=rand_pred)\n",
    "print('Accuracy: {}'.format(round(accuracy*100), 2))"
   ]
  },
  {
   "cell_type": "code",
   "execution_count": 13,
   "id": "40e096b4",
   "metadata": {},
   "outputs": [
    {
     "name": "stdout",
     "output_type": "stream",
     "text": [
      "Precision: 93\n"
     ]
    }
   ],
   "source": [
    "# Precision\n",
    "precision = precision_score(y_true=y_test, y_pred=rand_pred, pos_label='unstable')\n",
    "print('Precision: {}'.format(round(precision*100), 2))"
   ]
  },
  {
   "cell_type": "code",
   "execution_count": 14,
   "id": "fbf4a9c3",
   "metadata": {},
   "outputs": [
    {
     "name": "stdout",
     "output_type": "stream",
     "text": [
      "Recall: 96\n"
     ]
    }
   ],
   "source": [
    "# Recall\n",
    "recall = recall_score(y_true=y_test, y_pred=rand_pred, pos_label='unstable')\n",
    "print('Recall: {}'.format(round(recall*100), 2))"
   ]
  },
  {
   "cell_type": "code",
   "execution_count": 15,
   "id": "e936cfa4",
   "metadata": {},
   "outputs": [
    {
     "name": "stdout",
     "output_type": "stream",
     "text": [
      "F1: 95\n"
     ]
    }
   ],
   "source": [
    "# F1-Score\n",
    "f1 = f1_score(y_true=y_test, y_pred=rand_pred, pos_label='unstable')\n",
    "print('F1: {}'.format(round(f1*100), 2))"
   ]
  },
  {
   "cell_type": "code",
   "execution_count": 16,
   "id": "cd8fbc48",
   "metadata": {},
   "outputs": [
    {
     "data": {
      "text/plain": [
       "array([0.91143756, 0.91136454, 0.91564855, 0.90214725, 0.91555674])"
      ]
     },
     "execution_count": 16,
     "metadata": {},
     "output_type": "execute_result"
    }
   ],
   "source": [
    "# Cross validation\n",
    "from sklearn.model_selection import cross_val_score\n",
    "scores = cross_val_score(rand_model, normalised_train_df, y_train, cv=5, scoring='f1_macro')\n",
    "scores"
   ]
  },
  {
   "cell_type": "markdown",
   "id": "5c78afef",
   "metadata": {},
   "source": [
    "### Extra Tree"
   ]
  },
  {
   "cell_type": "code",
   "execution_count": 17,
   "id": "761fba6d",
   "metadata": {},
   "outputs": [
    {
     "data": {
      "text/plain": [
       "array(['unstable', 'unstable', 'stable', 'stable', 'unstable', 'stable',\n",
       "       'unstable', 'unstable', 'unstable', 'stable'], dtype=object)"
      ]
     },
     "execution_count": 17,
     "metadata": {},
     "output_type": "execute_result"
    }
   ],
   "source": [
    "# Extra tree\n",
    "extra_model = ExtraTreesClassifier(random_state=1)\n",
    "extra_model.fit(normalised_train_df, y_train)\n",
    "extra_pred = extra_model.predict(normalised_test_df)\n",
    "extra_pred[:10]"
   ]
  },
  {
   "cell_type": "code",
   "execution_count": 18,
   "id": "906a2f25",
   "metadata": {},
   "outputs": [
    {
     "data": {
      "text/plain": [
       "array([[1250,   38],\n",
       "       [ 106,  606]], dtype=int64)"
      ]
     },
     "execution_count": 18,
     "metadata": {},
     "output_type": "execute_result"
    }
   ],
   "source": [
    "# Confusion Matrix\n",
    "cnf_mat = confusion_matrix(y_true=y_test, y_pred=extra_pred, labels=['unstable', 'stable'])\n",
    "cnf_mat"
   ]
  },
  {
   "cell_type": "code",
   "execution_count": 19,
   "id": "1b6b9d8f",
   "metadata": {},
   "outputs": [
    {
     "name": "stdout",
     "output_type": "stream",
     "text": [
      "Accuracy: 93\n"
     ]
    }
   ],
   "source": [
    "# Accuracy\n",
    "accuracy = accuracy_score(y_true=y_test, y_pred=extra_pred)\n",
    "print('Accuracy: {}'.format(round(accuracy*100), 2))"
   ]
  },
  {
   "cell_type": "code",
   "execution_count": 20,
   "id": "0385056a",
   "metadata": {},
   "outputs": [
    {
     "name": "stdout",
     "output_type": "stream",
     "text": [
      "Precision: 92\n"
     ]
    }
   ],
   "source": [
    "# Precision\n",
    "precision = precision_score(y_true=y_test, y_pred=extra_pred, pos_label='unstable')\n",
    "print('Precision: {}'.format(round(precision*100), 2))"
   ]
  },
  {
   "cell_type": "code",
   "execution_count": 21,
   "id": "39680440",
   "metadata": {},
   "outputs": [
    {
     "name": "stdout",
     "output_type": "stream",
     "text": [
      "Recall: 97\n"
     ]
    }
   ],
   "source": [
    "# Recall\n",
    "recall = recall_score(y_true=y_test, y_pred=extra_pred, pos_label='unstable')\n",
    "print('Recall: {}'.format(round(recall*100), 2))"
   ]
  },
  {
   "cell_type": "code",
   "execution_count": 22,
   "id": "45a64d1f",
   "metadata": {},
   "outputs": [
    {
     "name": "stdout",
     "output_type": "stream",
     "text": [
      "F1: 95\n"
     ]
    }
   ],
   "source": [
    "# F1-Score\n",
    "f1 = f1_score(y_true=y_test, y_pred=extra_pred, pos_label='unstable')\n",
    "print('F1: {}'.format(round(f1*100), 2))"
   ]
  },
  {
   "cell_type": "code",
   "execution_count": 23,
   "id": "8283e575",
   "metadata": {},
   "outputs": [
    {
     "data": {
      "text/plain": [
       "array([0.91104788, 0.90890596, 0.91695487, 0.91218763, 0.92433757])"
      ]
     },
     "execution_count": 23,
     "metadata": {},
     "output_type": "execute_result"
    }
   ],
   "source": [
    "# Cross validation\n",
    "from sklearn.model_selection import cross_val_score\n",
    "scores = cross_val_score(extra_model, normalised_train_df, y_train, cv=5, scoring='f1_macro')\n",
    "scores"
   ]
  },
  {
   "cell_type": "markdown",
   "id": "0e10e3cd",
   "metadata": {},
   "source": [
    "### Xgboost"
   ]
  },
  {
   "cell_type": "code",
   "execution_count": 24,
   "id": "6bf6380b",
   "metadata": {},
   "outputs": [
    {
     "data": {
      "text/plain": [
       "array([1, 1, 0, 0, 1, 0, 1, 1, 1, 0])"
      ]
     },
     "execution_count": 24,
     "metadata": {},
     "output_type": "execute_result"
    }
   ],
   "source": [
    "# Xgboost\n",
    "from sklearn.preprocessing import LabelEncoder\n",
    "encoder = LabelEncoder()\n",
    "y_train_x = encoder.fit_transform(y_train)\n",
    "y_test_x = encoder.transform(y_test)\n",
    "xgb_model = xgb.XGBClassifier(random_state=1)\n",
    "xgb_model.fit(normalised_train_df, y_train_x)\n",
    "xgb_pred = xgb_model.predict(normalised_test_df)\n",
    "xgb_pred[:10]"
   ]
  },
  {
   "cell_type": "code",
   "execution_count": 25,
   "id": "3eb688b1",
   "metadata": {},
   "outputs": [
    {
     "data": {
      "text/plain": [
       "array([[1243,   45],\n",
       "       [  64,  648]], dtype=int64)"
      ]
     },
     "execution_count": 25,
     "metadata": {},
     "output_type": "execute_result"
    }
   ],
   "source": [
    "# Confusion Matrix\n",
    "cnf_mat = confusion_matrix(y_true=y_test_x, y_pred=xgb_pred, labels=[1, 0])\n",
    "cnf_mat"
   ]
  },
  {
   "cell_type": "code",
   "execution_count": 38,
   "id": "95a3dd0f",
   "metadata": {},
   "outputs": [
    {
     "name": "stdout",
     "output_type": "stream",
     "text": [
      "Accuracy: 95\n"
     ]
    }
   ],
   "source": [
    "# Accuracy\n",
    "accuracy = accuracy_score(y_true=y_test_x, y_pred=xgb_pred)\n",
    "print('Accuracy: {}'.format(round(accuracy*100), 2))"
   ]
  },
  {
   "cell_type": "code",
   "execution_count": 27,
   "id": "78a10cd9",
   "metadata": {},
   "outputs": [
    {
     "name": "stdout",
     "output_type": "stream",
     "text": [
      "Precision: 95\n"
     ]
    }
   ],
   "source": [
    "# Precision\n",
    "precision = precision_score(y_true=y_test_x, y_pred=xgb_pred, pos_label=1)\n",
    "print('Precision: {}'.format(round(precision*100), 2))"
   ]
  },
  {
   "cell_type": "code",
   "execution_count": 28,
   "id": "b3b326e7",
   "metadata": {},
   "outputs": [
    {
     "name": "stdout",
     "output_type": "stream",
     "text": [
      "Recall: 97\n"
     ]
    }
   ],
   "source": [
    "# Recall\n",
    "recall = recall_score(y_true=y_test_x, y_pred=xgb_pred, pos_label=1)\n",
    "print('Recall: {}'.format(round(recall*100), 2))"
   ]
  },
  {
   "cell_type": "code",
   "execution_count": 29,
   "id": "5636b580",
   "metadata": {},
   "outputs": [
    {
     "name": "stdout",
     "output_type": "stream",
     "text": [
      "F1: 96\n"
     ]
    }
   ],
   "source": [
    "# F1-Score\n",
    "f1 = f1_score(y_true=y_test_x, y_pred=xgb_pred, pos_label=1)\n",
    "print('F1: {}'.format(round(f1*100), 2))"
   ]
  },
  {
   "cell_type": "code",
   "execution_count": 30,
   "id": "a0caf36d",
   "metadata": {},
   "outputs": [
    {
     "data": {
      "text/plain": [
       "array([0.9366625 , 0.94470459, 0.93293748, 0.93646215, 0.94718274])"
      ]
     },
     "execution_count": 30,
     "metadata": {},
     "output_type": "execute_result"
    }
   ],
   "source": [
    "# Cross validation\n",
    "from sklearn.model_selection import cross_val_score\n",
    "scores = cross_val_score(xgb_model, normalised_train_df, y_train_x, cv=5, scoring='f1_macro')\n",
    "scores"
   ]
  },
  {
   "cell_type": "markdown",
   "id": "3c68a78f",
   "metadata": {},
   "source": [
    "### Lightgbm"
   ]
  },
  {
   "cell_type": "code",
   "execution_count": 31,
   "id": "30a26a98",
   "metadata": {},
   "outputs": [
    {
     "data": {
      "text/plain": [
       "array(['unstable', 'unstable', 'stable', 'stable', 'unstable', 'stable',\n",
       "       'unstable', 'unstable', 'unstable', 'stable'], dtype=object)"
      ]
     },
     "execution_count": 31,
     "metadata": {},
     "output_type": "execute_result"
    }
   ],
   "source": [
    "# Lightgbm\n",
    "lgb_model = lgb.LGBMClassifier(random_state=1)\n",
    "lgb_model.fit(normalised_train_df, y_train)\n",
    "lgb_pred = lgb_model.predict(normalised_test_df)\n",
    "lgb_pred[:10]"
   ]
  },
  {
   "cell_type": "code",
   "execution_count": 32,
   "id": "452c04dd",
   "metadata": {},
   "outputs": [
    {
     "data": {
      "text/plain": [
       "array([[1238,   50],\n",
       "       [  71,  641]], dtype=int64)"
      ]
     },
     "execution_count": 32,
     "metadata": {},
     "output_type": "execute_result"
    }
   ],
   "source": [
    "# Confusion Matrix\n",
    "cnf_mat = confusion_matrix(y_true=y_test, y_pred=lgb_pred, labels=['unstable', 'stable'])\n",
    "cnf_mat"
   ]
  },
  {
   "cell_type": "code",
   "execution_count": 33,
   "id": "fc2b4d04",
   "metadata": {},
   "outputs": [
    {
     "name": "stdout",
     "output_type": "stream",
     "text": [
      "Accuracy: 94\n"
     ]
    }
   ],
   "source": [
    "# Accuracy\n",
    "accuracy = accuracy_score(y_true=y_test, y_pred=lgb_pred)\n",
    "print('Accuracy: {}'.format(round(accuracy*100), 2))"
   ]
  },
  {
   "cell_type": "code",
   "execution_count": 34,
   "id": "e1fb0008",
   "metadata": {},
   "outputs": [
    {
     "name": "stdout",
     "output_type": "stream",
     "text": [
      "Precision: 95\n"
     ]
    }
   ],
   "source": [
    "# Precision\n",
    "precision = precision_score(y_true=y_test, y_pred=lgb_pred, pos_label='unstable')\n",
    "print('Precision: {}'.format(round(precision*100), 2))"
   ]
  },
  {
   "cell_type": "code",
   "execution_count": 35,
   "id": "aaed43db",
   "metadata": {},
   "outputs": [
    {
     "name": "stdout",
     "output_type": "stream",
     "text": [
      "Recall: 96\n"
     ]
    }
   ],
   "source": [
    "# Recall\n",
    "recall = recall_score(y_true=y_test, y_pred=lgb_pred, pos_label='unstable')\n",
    "print('Recall: {}'.format(round(recall*100), 2))"
   ]
  },
  {
   "cell_type": "code",
   "execution_count": 36,
   "id": "a8dad2aa",
   "metadata": {},
   "outputs": [
    {
     "name": "stdout",
     "output_type": "stream",
     "text": [
      "F1: 95\n"
     ]
    }
   ],
   "source": [
    "# F1-Score\n",
    "f1 = f1_score(y_true=y_test, y_pred=lgb_pred, pos_label='unstable')\n",
    "print('F1: {}'.format(round(f1*100), 2))"
   ]
  },
  {
   "cell_type": "code",
   "execution_count": 37,
   "id": "f3f2958e",
   "metadata": {},
   "outputs": [
    {
     "data": {
      "text/plain": [
       "array([0.92843386, 0.94466058, 0.93147894, 0.92695545, 0.94360434])"
      ]
     },
     "execution_count": 37,
     "metadata": {},
     "output_type": "execute_result"
    }
   ],
   "source": [
    "# Cross validation\n",
    "from sklearn.model_selection import cross_val_score\n",
    "scores = cross_val_score(lgb_model, normalised_train_df, y_train, cv=5, scoring='f1_macro')\n",
    "scores"
   ]
  },
  {
   "cell_type": "code",
   "execution_count": null,
   "id": "39c9357c",
   "metadata": {},
   "outputs": [],
   "source": []
  }
 ],
 "metadata": {
  "kernelspec": {
   "display_name": "Python 3 (ipykernel)",
   "language": "python",
   "name": "python3"
  },
  "language_info": {
   "codemirror_mode": {
    "name": "ipython",
    "version": 3
   },
   "file_extension": ".py",
   "mimetype": "text/x-python",
   "name": "python",
   "nbconvert_exporter": "python",
   "pygments_lexer": "ipython3",
   "version": "3.9.12"
  }
 },
 "nbformat": 4,
 "nbformat_minor": 5
}
