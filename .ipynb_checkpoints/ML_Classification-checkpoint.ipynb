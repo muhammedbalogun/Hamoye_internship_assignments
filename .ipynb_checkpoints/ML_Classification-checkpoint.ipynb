{
 "cells": [
  {
   "cell_type": "markdown",
   "id": "c38efed6",
   "metadata": {},
   "source": [
    "# Classification ML"
   ]
  },
  {
   "cell_type": "code",
   "execution_count": 1,
   "id": "40bdb06e",
   "metadata": {},
   "outputs": [],
   "source": [
    "# import required libraries\n",
    "import numpy as np\n",
    "import pandas as pd\n",
    "import matplotlib.pyplot as plt\n",
    "import seaborn as sns\n",
    "%matplotlib inline\n",
    "\n",
    "import warnings\n",
    "warnings.simplefilter('ignore')"
   ]
  },
  {
   "cell_type": "code",
   "execution_count": 2,
   "id": "9ee34e98",
   "metadata": {},
   "outputs": [],
   "source": [
    "# preliminary assessment function\n",
    "\n",
    "def assess_data(file, encoding='utf-8'):\n",
    "    \n",
    "    # read file\n",
    "    df = pd.read_csv(file, encoding=encoding)\n",
    "    \n",
    "    # check header\n",
    "    print(\"The First Five Observations in DataFrame\")\n",
    "    display(df.head())\n",
    "    print('\\n')\n",
    "    \n",
    "    # check tail\n",
    "    print(\"The Last Five Observations in DataFrame\")\n",
    "    display(df.tail())\n",
    "    print('\\n')\n",
    "    \n",
    "    # check shape of df\n",
    "    print(\"The Shape of DataFrame\")\n",
    "    print(df.shape)\n",
    "    print('\\n')\n",
    "    \n",
    "    # check info of df\n",
    "    print(\"Basic Information of DataFrame\")\n",
    "    print('\\n')\n",
    "    display(df.info())\n",
    "    print('\\n')\n",
    "    \n",
    "    # check number of unique values in df\n",
    "    print(\"Number of Unique Values in DataFrame\")\n",
    "    print('\\n')\n",
    "    print(df.nunique())\n",
    "    print('\\n')\n",
    "    \n",
    "    # check number of missing values in df\n",
    "    print(\"Number of Missing Values in DataFrame\")\n",
    "    print('\\n')\n",
    "    print(df.isnull().sum())\n",
    "    print('\\n')\n",
    "    \n",
    "    # check number duplicates in df\n",
    "    print(\"Number of Duplicates in DataFrame\")\n",
    "    print(\"Number of duplicates: \", df.duplicated().sum())\n",
    "    \n",
    "    return df"
   ]
  },
  {
   "cell_type": "code",
   "execution_count": 3,
   "id": "02c6f7f4",
   "metadata": {},
   "outputs": [
    {
     "name": "stdout",
     "output_type": "stream",
     "text": [
      "The First Five Observations in DataFrame\n"
     ]
    },
    {
     "data": {
      "text/html": [
       "<div>\n",
       "<style scoped>\n",
       "    .dataframe tbody tr th:only-of-type {\n",
       "        vertical-align: middle;\n",
       "    }\n",
       "\n",
       "    .dataframe tbody tr th {\n",
       "        vertical-align: top;\n",
       "    }\n",
       "\n",
       "    .dataframe thead th {\n",
       "        text-align: right;\n",
       "    }\n",
       "</style>\n",
       "<table border=\"1\" class=\"dataframe\">\n",
       "  <thead>\n",
       "    <tr style=\"text-align: right;\">\n",
       "      <th></th>\n",
       "      <th>country</th>\n",
       "      <th>year</th>\n",
       "      <th>country_code</th>\n",
       "      <th>record</th>\n",
       "      <th>crop_land</th>\n",
       "      <th>grazing_land</th>\n",
       "      <th>forest_land</th>\n",
       "      <th>fishing_ground</th>\n",
       "      <th>built_up_land</th>\n",
       "      <th>carbon</th>\n",
       "      <th>total</th>\n",
       "      <th>QScore</th>\n",
       "    </tr>\n",
       "  </thead>\n",
       "  <tbody>\n",
       "    <tr>\n",
       "      <th>0</th>\n",
       "      <td>Armenia</td>\n",
       "      <td>1992</td>\n",
       "      <td>1</td>\n",
       "      <td>AreaPerCap</td>\n",
       "      <td>0.140292</td>\n",
       "      <td>0.199546</td>\n",
       "      <td>0.097188051</td>\n",
       "      <td>0.036888</td>\n",
       "      <td>0.029320</td>\n",
       "      <td>0.000000</td>\n",
       "      <td>5.032351e-01</td>\n",
       "      <td>3A</td>\n",
       "    </tr>\n",
       "    <tr>\n",
       "      <th>1</th>\n",
       "      <td>Armenia</td>\n",
       "      <td>1992</td>\n",
       "      <td>1</td>\n",
       "      <td>AreaTotHA</td>\n",
       "      <td>483000.000000</td>\n",
       "      <td>687000.000000</td>\n",
       "      <td>334600</td>\n",
       "      <td>127000.000000</td>\n",
       "      <td>100943.000800</td>\n",
       "      <td>0.000000</td>\n",
       "      <td>1.732543e+06</td>\n",
       "      <td>3A</td>\n",
       "    </tr>\n",
       "    <tr>\n",
       "      <th>2</th>\n",
       "      <td>Armenia</td>\n",
       "      <td>1992</td>\n",
       "      <td>1</td>\n",
       "      <td>BiocapPerCap</td>\n",
       "      <td>0.159804</td>\n",
       "      <td>0.135261</td>\n",
       "      <td>0.084003213</td>\n",
       "      <td>0.013742</td>\n",
       "      <td>0.033398</td>\n",
       "      <td>0.000000</td>\n",
       "      <td>4.262086e-01</td>\n",
       "      <td>3A</td>\n",
       "    </tr>\n",
       "    <tr>\n",
       "      <th>3</th>\n",
       "      <td>Armenia</td>\n",
       "      <td>1992</td>\n",
       "      <td>1</td>\n",
       "      <td>BiocapTotGHA</td>\n",
       "      <td>550176.242700</td>\n",
       "      <td>465677.972200</td>\n",
       "      <td>289207.1078</td>\n",
       "      <td>47311.551720</td>\n",
       "      <td>114982.279300</td>\n",
       "      <td>0.000000</td>\n",
       "      <td>1.467355e+06</td>\n",
       "      <td>3A</td>\n",
       "    </tr>\n",
       "    <tr>\n",
       "      <th>4</th>\n",
       "      <td>Armenia</td>\n",
       "      <td>1992</td>\n",
       "      <td>1</td>\n",
       "      <td>EFConsPerCap</td>\n",
       "      <td>0.387510</td>\n",
       "      <td>0.189462</td>\n",
       "      <td>1.26E-06</td>\n",
       "      <td>0.004165</td>\n",
       "      <td>0.033398</td>\n",
       "      <td>1.114093</td>\n",
       "      <td>1.728629e+00</td>\n",
       "      <td>3A</td>\n",
       "    </tr>\n",
       "  </tbody>\n",
       "</table>\n",
       "</div>"
      ],
      "text/plain": [
       "   country  year  country_code        record      crop_land   grazing_land  \\\n",
       "0  Armenia  1992             1    AreaPerCap       0.140292       0.199546   \n",
       "1  Armenia  1992             1     AreaTotHA  483000.000000  687000.000000   \n",
       "2  Armenia  1992             1  BiocapPerCap       0.159804       0.135261   \n",
       "3  Armenia  1992             1  BiocapTotGHA  550176.242700  465677.972200   \n",
       "4  Armenia  1992             1  EFConsPerCap       0.387510       0.189462   \n",
       "\n",
       "   forest_land  fishing_ground  built_up_land    carbon         total QScore  \n",
       "0  0.097188051        0.036888       0.029320  0.000000  5.032351e-01     3A  \n",
       "1       334600   127000.000000  100943.000800  0.000000  1.732543e+06     3A  \n",
       "2  0.084003213        0.013742       0.033398  0.000000  4.262086e-01     3A  \n",
       "3  289207.1078    47311.551720  114982.279300  0.000000  1.467355e+06     3A  \n",
       "4     1.26E-06        0.004165       0.033398  1.114093  1.728629e+00     3A  "
      ]
     },
     "metadata": {},
     "output_type": "display_data"
    },
    {
     "name": "stdout",
     "output_type": "stream",
     "text": [
      "\n",
      "\n",
      "The Last Five Observations in DataFrame\n"
     ]
    },
    {
     "data": {
      "text/html": [
       "<div>\n",
       "<style scoped>\n",
       "    .dataframe tbody tr th:only-of-type {\n",
       "        vertical-align: middle;\n",
       "    }\n",
       "\n",
       "    .dataframe tbody tr th {\n",
       "        vertical-align: top;\n",
       "    }\n",
       "\n",
       "    .dataframe thead th {\n",
       "        text-align: right;\n",
       "    }\n",
       "</style>\n",
       "<table border=\"1\" class=\"dataframe\">\n",
       "  <thead>\n",
       "    <tr style=\"text-align: right;\">\n",
       "      <th></th>\n",
       "      <th>country</th>\n",
       "      <th>year</th>\n",
       "      <th>country_code</th>\n",
       "      <th>record</th>\n",
       "      <th>crop_land</th>\n",
       "      <th>grazing_land</th>\n",
       "      <th>forest_land</th>\n",
       "      <th>fishing_ground</th>\n",
       "      <th>built_up_land</th>\n",
       "      <th>carbon</th>\n",
       "      <th>total</th>\n",
       "      <th>QScore</th>\n",
       "    </tr>\n",
       "  </thead>\n",
       "  <tbody>\n",
       "    <tr>\n",
       "      <th>72181</th>\n",
       "      <td>World</td>\n",
       "      <td>2016</td>\n",
       "      <td>5001</td>\n",
       "      <td>BiocapTotGHA</td>\n",
       "      <td>3.984702e+09</td>\n",
       "      <td>1.504757e+09</td>\n",
       "      <td>5111762779.0</td>\n",
       "      <td>1.095445e+09</td>\n",
       "      <td>4.726163e+08</td>\n",
       "      <td>0.000000e+00</td>\n",
       "      <td>1.216928e+10</td>\n",
       "      <td>3A</td>\n",
       "    </tr>\n",
       "    <tr>\n",
       "      <th>72182</th>\n",
       "      <td>World</td>\n",
       "      <td>2016</td>\n",
       "      <td>5001</td>\n",
       "      <td>EFConsPerCap</td>\n",
       "      <td>5.336445e-01</td>\n",
       "      <td>1.402092e-01</td>\n",
       "      <td>0.273495</td>\n",
       "      <td>8.974253e-02</td>\n",
       "      <td>6.329435e-02</td>\n",
       "      <td>1.646235e+00</td>\n",
       "      <td>2.746619e+00</td>\n",
       "      <td>3A</td>\n",
       "    </tr>\n",
       "    <tr>\n",
       "      <th>72183</th>\n",
       "      <td>World</td>\n",
       "      <td>2016</td>\n",
       "      <td>5001</td>\n",
       "      <td>EFConsTotGHA</td>\n",
       "      <td>3.984702e+09</td>\n",
       "      <td>1.046937e+09</td>\n",
       "      <td>2042179333.0</td>\n",
       "      <td>6.701039e+08</td>\n",
       "      <td>4.726163e+08</td>\n",
       "      <td>1.229237e+10</td>\n",
       "      <td>2.050891e+10</td>\n",
       "      <td>3A</td>\n",
       "    </tr>\n",
       "    <tr>\n",
       "      <th>72184</th>\n",
       "      <td>World</td>\n",
       "      <td>2016</td>\n",
       "      <td>5001</td>\n",
       "      <td>EFProdPerCap</td>\n",
       "      <td>5.336445e-01</td>\n",
       "      <td>1.402092e-01</td>\n",
       "      <td>0.273495</td>\n",
       "      <td>8.974253e-02</td>\n",
       "      <td>6.329435e-02</td>\n",
       "      <td>1.646235e+00</td>\n",
       "      <td>2.746619e+00</td>\n",
       "      <td>3A</td>\n",
       "    </tr>\n",
       "    <tr>\n",
       "      <th>72185</th>\n",
       "      <td>World</td>\n",
       "      <td>2016</td>\n",
       "      <td>5001</td>\n",
       "      <td>EFProdTotGHA</td>\n",
       "      <td>3.984702e+09</td>\n",
       "      <td>1.046937e+09</td>\n",
       "      <td>2042179333.0</td>\n",
       "      <td>6.701039e+08</td>\n",
       "      <td>4.726163e+08</td>\n",
       "      <td>1.229237e+10</td>\n",
       "      <td>2.050891e+10</td>\n",
       "      <td>3A</td>\n",
       "    </tr>\n",
       "  </tbody>\n",
       "</table>\n",
       "</div>"
      ],
      "text/plain": [
       "      country  year  country_code        record     crop_land  grazing_land  \\\n",
       "72181   World  2016          5001  BiocapTotGHA  3.984702e+09  1.504757e+09   \n",
       "72182   World  2016          5001  EFConsPerCap  5.336445e-01  1.402092e-01   \n",
       "72183   World  2016          5001  EFConsTotGHA  3.984702e+09  1.046937e+09   \n",
       "72184   World  2016          5001  EFProdPerCap  5.336445e-01  1.402092e-01   \n",
       "72185   World  2016          5001  EFProdTotGHA  3.984702e+09  1.046937e+09   \n",
       "\n",
       "        forest_land  fishing_ground  built_up_land        carbon  \\\n",
       "72181  5111762779.0    1.095445e+09   4.726163e+08  0.000000e+00   \n",
       "72182      0.273495    8.974253e-02   6.329435e-02  1.646235e+00   \n",
       "72183  2042179333.0    6.701039e+08   4.726163e+08  1.229237e+10   \n",
       "72184      0.273495    8.974253e-02   6.329435e-02  1.646235e+00   \n",
       "72185  2042179333.0    6.701039e+08   4.726163e+08  1.229237e+10   \n",
       "\n",
       "              total QScore  \n",
       "72181  1.216928e+10     3A  \n",
       "72182  2.746619e+00     3A  \n",
       "72183  2.050891e+10     3A  \n",
       "72184  2.746619e+00     3A  \n",
       "72185  2.050891e+10     3A  "
      ]
     },
     "metadata": {},
     "output_type": "display_data"
    },
    {
     "name": "stdout",
     "output_type": "stream",
     "text": [
      "\n",
      "\n",
      "The Shape of DataFrame\n",
      "(72186, 12)\n",
      "\n",
      "\n",
      "Basic Information of DataFrame\n",
      "\n",
      "\n",
      "<class 'pandas.core.frame.DataFrame'>\n",
      "RangeIndex: 72186 entries, 0 to 72185\n",
      "Data columns (total 12 columns):\n",
      " #   Column          Non-Null Count  Dtype  \n",
      "---  ------          --------------  -----  \n",
      " 0   country         72186 non-null  object \n",
      " 1   year            72186 non-null  int64  \n",
      " 2   country_code    72186 non-null  int64  \n",
      " 3   record          72186 non-null  object \n",
      " 4   crop_land       51714 non-null  float64\n",
      " 5   grazing_land    51714 non-null  float64\n",
      " 6   forest_land     51714 non-null  object \n",
      " 7   fishing_ground  51713 non-null  float64\n",
      " 8   built_up_land   51713 non-null  float64\n",
      " 9   carbon          51713 non-null  float64\n",
      " 10  total           72177 non-null  float64\n",
      " 11  QScore          72185 non-null  object \n",
      "dtypes: float64(6), int64(2), object(4)\n",
      "memory usage: 6.6+ MB\n"
     ]
    },
    {
     "data": {
      "text/plain": [
       "None"
      ]
     },
     "metadata": {},
     "output_type": "display_data"
    },
    {
     "name": "stdout",
     "output_type": "stream",
     "text": [
      "\n",
      "\n",
      "Number of Unique Values in DataFrame\n",
      "\n",
      "\n",
      "country             193\n",
      "year                 56\n",
      "country_code        193\n",
      "record                8\n",
      "crop_land         36869\n",
      "grazing_land      40629\n",
      "forest_land       49103\n",
      "fishing_ground    45244\n",
      "built_up_land     24774\n",
      "carbon            25493\n",
      "total             71690\n",
      "QScore                5\n",
      "dtype: int64\n",
      "\n",
      "\n",
      "Number of Missing Values in DataFrame\n",
      "\n",
      "\n",
      "country               0\n",
      "year                  0\n",
      "country_code          0\n",
      "record                0\n",
      "crop_land         20472\n",
      "grazing_land      20472\n",
      "forest_land       20472\n",
      "fishing_ground    20473\n",
      "built_up_land     20473\n",
      "carbon            20473\n",
      "total                 9\n",
      "QScore                1\n",
      "dtype: int64\n",
      "\n",
      "\n",
      "Number of Duplicates in DataFrame\n",
      "Number of duplicates:  0\n"
     ]
    }
   ],
   "source": [
    "# load data and assess data\n",
    "df = assess_data('https://query.data.world/s/wh6j7rxy2hvrn4ml75ci62apk5hgae')"
   ]
  },
  {
   "cell_type": "code",
   "execution_count": 4,
   "id": "365f70c7",
   "metadata": {},
   "outputs": [
    {
     "data": {
      "text/plain": [
       "3A    51481\n",
       "2A    10576\n",
       "2B    10096\n",
       "1A       16\n",
       "1B       16\n",
       "Name: QScore, dtype: int64"
      ]
     },
     "execution_count": 4,
     "metadata": {},
     "output_type": "execute_result"
    }
   ],
   "source": [
    "# check distribution of target variable\n",
    "# prints\n",
    "df['QScore'].value_counts()"
   ]
  },
  {
   "cell_type": "code",
   "execution_count": 5,
   "id": "f8fbf5c5",
   "metadata": {},
   "outputs": [
    {
     "data": {
      "text/plain": [
       "country           0\n",
       "year              0\n",
       "country_code      0\n",
       "record            0\n",
       "crop_land         0\n",
       "grazing_land      0\n",
       "forest_land       0\n",
       "fishing_ground    0\n",
       "built_up_land     0\n",
       "carbon            0\n",
       "total             0\n",
       "QScore            0\n",
       "dtype: int64"
      ]
     },
     "execution_count": 5,
     "metadata": {},
     "output_type": "execute_result"
    }
   ],
   "source": [
    "#for simplicity, we will drop the rows with missing values.\n",
    "df = df.dropna()\n",
    "df.isna().sum()"
   ]
  },
  {
   "cell_type": "markdown",
   "id": "2a448b4c",
   "metadata": {},
   "source": [
    "> An obvious change in our target variable after removing the missing values is that there\n",
    "are only three classes left and from the distribution of the 3 classes, we can see that\n",
    "there is an obvious imbalance between the classes. There are methods that can be applied to\n",
    "handle this imbalance such as oversampling and undersampling.\n",
    "\n",
    "> Oversampling involves increasing the number of instances in the class with fewer instances\n",
    "while undersampling involves reducing the data points in the class with more instances.\n",
    "\n",
    "> For now, we will convert this to a binary classification problem by combining class '2A'\n",
    "and '1A'."
   ]
  },
  {
   "cell_type": "code",
   "execution_count": 44,
   "id": "8d661a34",
   "metadata": {},
   "outputs": [
    {
     "data": {
      "text/plain": [
       "3A    51473\n",
       "2A      240\n",
       "Name: QScore, dtype: int64"
      ]
     },
     "execution_count": 44,
     "metadata": {},
     "output_type": "execute_result"
    }
   ],
   "source": [
    "df['QScore'] = df['QScore'].replace(['1A'], '2A')\n",
    "df.QScore.value_counts()"
   ]
  },
  {
   "cell_type": "code",
   "execution_count": 45,
   "id": "c0071716",
   "metadata": {},
   "outputs": [],
   "source": [
    "# set sample seed for reproduction\n",
    "np.random.seed(40)\n",
    "\n",
    "# create clasification sample\n",
    "df_2A = df[df.QScore=='2A']\n",
    "df_3A = df[df.QScore=='3A'].sample(350)\n",
    "data_df = df_2A.append(df_3A)"
   ]
  },
  {
   "cell_type": "code",
   "execution_count": 46,
   "id": "8b2050ba",
   "metadata": {},
   "outputs": [
    {
     "name": "stdout",
     "output_type": "stream",
     "text": [
      "(590, 12)\n"
     ]
    },
    {
     "data": {
      "text/html": [
       "<div>\n",
       "<style scoped>\n",
       "    .dataframe tbody tr th:only-of-type {\n",
       "        vertical-align: middle;\n",
       "    }\n",
       "\n",
       "    .dataframe tbody tr th {\n",
       "        vertical-align: top;\n",
       "    }\n",
       "\n",
       "    .dataframe thead th {\n",
       "        text-align: right;\n",
       "    }\n",
       "</style>\n",
       "<table border=\"1\" class=\"dataframe\">\n",
       "  <thead>\n",
       "    <tr style=\"text-align: right;\">\n",
       "      <th></th>\n",
       "      <th>country</th>\n",
       "      <th>year</th>\n",
       "      <th>country_code</th>\n",
       "      <th>record</th>\n",
       "      <th>crop_land</th>\n",
       "      <th>grazing_land</th>\n",
       "      <th>forest_land</th>\n",
       "      <th>fishing_ground</th>\n",
       "      <th>built_up_land</th>\n",
       "      <th>carbon</th>\n",
       "      <th>total</th>\n",
       "      <th>QScore</th>\n",
       "    </tr>\n",
       "  </thead>\n",
       "  <tbody>\n",
       "    <tr>\n",
       "      <th>0</th>\n",
       "      <td>Liberia</td>\n",
       "      <td>2016</td>\n",
       "      <td>123</td>\n",
       "      <td>AreaPerCap</td>\n",
       "      <td>1.517181e-01</td>\n",
       "      <td>4.334803e-01</td>\n",
       "      <td>0.899254882</td>\n",
       "      <td>7.155026e-01</td>\n",
       "      <td>0.035708</td>\n",
       "      <td>0.000000e+00</td>\n",
       "      <td>2.235664e+00</td>\n",
       "      <td>2A</td>\n",
       "    </tr>\n",
       "    <tr>\n",
       "      <th>1</th>\n",
       "      <td>Canada</td>\n",
       "      <td>1972</td>\n",
       "      <td>33</td>\n",
       "      <td>EFProdTotGHA</td>\n",
       "      <td>5.110047e+07</td>\n",
       "      <td>1.089634e+07</td>\n",
       "      <td>88482811.3</td>\n",
       "      <td>1.317032e+07</td>\n",
       "      <td>697964.776700</td>\n",
       "      <td>1.359240e+08</td>\n",
       "      <td>3.002719e+08</td>\n",
       "      <td>3A</td>\n",
       "    </tr>\n",
       "    <tr>\n",
       "      <th>2</th>\n",
       "      <td>Costa Rica</td>\n",
       "      <td>1973</td>\n",
       "      <td>48</td>\n",
       "      <td>EFConsPerCap</td>\n",
       "      <td>3.098600e-01</td>\n",
       "      <td>4.554701e-01</td>\n",
       "      <td>1.227853421</td>\n",
       "      <td>3.620725e-02</td>\n",
       "      <td>0.061185</td>\n",
       "      <td>6.592807e-01</td>\n",
       "      <td>2.749857e+00</td>\n",
       "      <td>3A</td>\n",
       "    </tr>\n",
       "    <tr>\n",
       "      <th>3</th>\n",
       "      <td>Guyana</td>\n",
       "      <td>1975</td>\n",
       "      <td>91</td>\n",
       "      <td>EFProdTotGHA</td>\n",
       "      <td>3.830075e+05</td>\n",
       "      <td>2.975185e+05</td>\n",
       "      <td>460876.2592</td>\n",
       "      <td>2.616273e+04</td>\n",
       "      <td>39022.096400</td>\n",
       "      <td>6.448422e+05</td>\n",
       "      <td>1.851429e+06</td>\n",
       "      <td>3A</td>\n",
       "    </tr>\n",
       "    <tr>\n",
       "      <th>4</th>\n",
       "      <td>Timor-Leste</td>\n",
       "      <td>2016</td>\n",
       "      <td>176</td>\n",
       "      <td>BiocapPerCap</td>\n",
       "      <td>1.693559e-01</td>\n",
       "      <td>5.429385e-02</td>\n",
       "      <td>0.424703833</td>\n",
       "      <td>8.405822e-01</td>\n",
       "      <td>0.038584</td>\n",
       "      <td>0.000000e+00</td>\n",
       "      <td>1.527519e+00</td>\n",
       "      <td>2A</td>\n",
       "    </tr>\n",
       "  </tbody>\n",
       "</table>\n",
       "</div>"
      ],
      "text/plain": [
       "       country  year  country_code        record     crop_land  grazing_land  \\\n",
       "0      Liberia  2016           123    AreaPerCap  1.517181e-01  4.334803e-01   \n",
       "1       Canada  1972            33  EFProdTotGHA  5.110047e+07  1.089634e+07   \n",
       "2   Costa Rica  1973            48  EFConsPerCap  3.098600e-01  4.554701e-01   \n",
       "3       Guyana  1975            91  EFProdTotGHA  3.830075e+05  2.975185e+05   \n",
       "4  Timor-Leste  2016           176  BiocapPerCap  1.693559e-01  5.429385e-02   \n",
       "\n",
       "   forest_land  fishing_ground  built_up_land        carbon         total  \\\n",
       "0  0.899254882    7.155026e-01       0.035708  0.000000e+00  2.235664e+00   \n",
       "1   88482811.3    1.317032e+07  697964.776700  1.359240e+08  3.002719e+08   \n",
       "2  1.227853421    3.620725e-02       0.061185  6.592807e-01  2.749857e+00   \n",
       "3  460876.2592    2.616273e+04   39022.096400  6.448422e+05  1.851429e+06   \n",
       "4  0.424703833    8.405822e-01       0.038584  0.000000e+00  1.527519e+00   \n",
       "\n",
       "  QScore  \n",
       "0     2A  \n",
       "1     3A  \n",
       "2     3A  \n",
       "3     3A  \n",
       "4     2A  "
      ]
     },
     "execution_count": 46,
     "metadata": {},
     "output_type": "execute_result"
    }
   ],
   "source": [
    "import sklearn.utils\n",
    "data_df = sklearn.utils.shuffle(data_df)\n",
    "data_df = data_df.reset_index(drop=True)\n",
    "\n",
    "# print shape\n",
    "print(data_df.shape)\n",
    "\n",
    "# check haeder\n",
    "data_df.head()"
   ]
  },
  {
   "cell_type": "code",
   "execution_count": 47,
   "id": "954c50fd",
   "metadata": {},
   "outputs": [
    {
     "data": {
      "text/plain": [
       "3A    350\n",
       "2A    240\n",
       "Name: QScore, dtype: int64"
      ]
     },
     "execution_count": 47,
     "metadata": {},
     "output_type": "execute_result"
    }
   ],
   "source": [
    "data_df.QScore.value_counts()"
   ]
  },
  {
   "cell_type": "code",
   "execution_count": 48,
   "id": "f221c8bb",
   "metadata": {},
   "outputs": [
    {
     "data": {
      "text/html": [
       "<div>\n",
       "<style scoped>\n",
       "    .dataframe tbody tr th:only-of-type {\n",
       "        vertical-align: middle;\n",
       "    }\n",
       "\n",
       "    .dataframe tbody tr th {\n",
       "        vertical-align: top;\n",
       "    }\n",
       "\n",
       "    .dataframe thead th {\n",
       "        text-align: right;\n",
       "    }\n",
       "</style>\n",
       "<table border=\"1\" class=\"dataframe\">\n",
       "  <thead>\n",
       "    <tr style=\"text-align: right;\">\n",
       "      <th></th>\n",
       "      <th>record</th>\n",
       "      <th>crop_land</th>\n",
       "      <th>grazing_land</th>\n",
       "      <th>forest_land</th>\n",
       "      <th>fishing_ground</th>\n",
       "      <th>built_up_land</th>\n",
       "      <th>carbon</th>\n",
       "      <th>total</th>\n",
       "      <th>QScore</th>\n",
       "    </tr>\n",
       "  </thead>\n",
       "  <tbody>\n",
       "    <tr>\n",
       "      <th>0</th>\n",
       "      <td>AreaPerCap</td>\n",
       "      <td>0.151718</td>\n",
       "      <td>0.43348</td>\n",
       "      <td>0.899254882</td>\n",
       "      <td>0.715503</td>\n",
       "      <td>0.035708</td>\n",
       "      <td>0.0</td>\n",
       "      <td>2.235664</td>\n",
       "      <td>2A</td>\n",
       "    </tr>\n",
       "  </tbody>\n",
       "</table>\n",
       "</div>"
      ],
      "text/plain": [
       "       record  crop_land  grazing_land  forest_land  fishing_ground  \\\n",
       "0  AreaPerCap   0.151718       0.43348  0.899254882        0.715503   \n",
       "\n",
       "   built_up_land  carbon     total QScore  \n",
       "0       0.035708     0.0  2.235664     2A  "
      ]
     },
     "execution_count": 48,
     "metadata": {},
     "output_type": "execute_result"
    }
   ],
   "source": [
    "#more preprocessing\n",
    "data_df = data_df.drop(columns=['country_code', 'country', 'year'])\n",
    "data_df.head(1)"
   ]
  },
  {
   "cell_type": "code",
   "execution_count": 49,
   "id": "e1269076",
   "metadata": {},
   "outputs": [],
   "source": [
    "# divide data to feature and target\n",
    "X = data_df.drop(columns='QScore')\n",
    "y = data_df['QScore']"
   ]
  },
  {
   "cell_type": "code",
   "execution_count": 50,
   "id": "fb1f966d",
   "metadata": {},
   "outputs": [
    {
     "data": {
      "text/plain": [
       "3A    246\n",
       "2A    167\n",
       "Name: QScore, dtype: int64"
      ]
     },
     "execution_count": 50,
     "metadata": {},
     "output_type": "execute_result"
    }
   ],
   "source": [
    "# split the data into training and testing sets\n",
    "from sklearn.model_selection import train_test_split\n",
    "x_train, x_test, y_train, y_test = train_test_split(X, y, test_size=0.3, random_state=0)\n",
    "y_train.value_counts()"
   ]
  },
  {
   "cell_type": "markdown",
   "id": "10caf749",
   "metadata": {},
   "source": [
    "> There is still an imbalance in the class distribution. For this, we use SMOTE only on the training data to handle this."
   ]
  },
  {
   "cell_type": "code",
   "execution_count": 51,
   "id": "001ab47a",
   "metadata": {},
   "outputs": [],
   "source": [
    "#encode categorical variable\n",
    "from sklearn.preprocessing import LabelEncoder\n",
    "encoder = LabelEncoder()\n",
    "x_train.record = encoder.fit_transform(x_train.record)\n",
    "x_test.record = encoder.transform(x_test.record)"
   ]
  },
  {
   "cell_type": "code",
   "execution_count": 52,
   "id": "559f809f",
   "metadata": {},
   "outputs": [],
   "source": [
    "import imblearn\n",
    "from imblearn.over_sampling import SMOTE\n",
    "smote = SMOTE(random_state=1)\n",
    "x_train_balanced, y_balanced = smote.fit_resample(x_train, y_train)"
   ]
  },
  {
   "cell_type": "code",
   "execution_count": 53,
   "id": "e540e8c5",
   "metadata": {},
   "outputs": [],
   "source": [
    "from sklearn.preprocessing import MinMaxScaler\n",
    "scaler = MinMaxScaler()\n",
    "normalised_train_df = scaler.fit_transform(x_train_balanced.drop(columns=['record']))\n",
    "normalised_train_df = pd.DataFrame(normalised_train_df, columns=x_train_balanced.drop(columns=['record']).columns)\n",
    "normalised_train_df['record'] = x_train_balanced['record']"
   ]
  },
  {
   "cell_type": "code",
   "execution_count": 54,
   "id": "7dc77e34",
   "metadata": {},
   "outputs": [],
   "source": [
    "x_test = x_test.reset_index(drop=True)\n",
    "normalised_test_df = scaler.transform(x_test.drop(columns=['record']))\n",
    "normalised_test_df = pd.DataFrame(normalised_test_df, columns=x_test.drop(columns=['record']).columns)\n",
    "normalised_test_df['record'] = x_test['record']"
   ]
  },
  {
   "cell_type": "code",
   "execution_count": 55,
   "id": "5b5efa7c",
   "metadata": {},
   "outputs": [
    {
     "data": {
      "text/html": [
       "<style>#sk-container-id-3 {color: black;background-color: white;}#sk-container-id-3 pre{padding: 0;}#sk-container-id-3 div.sk-toggleable {background-color: white;}#sk-container-id-3 label.sk-toggleable__label {cursor: pointer;display: block;width: 100%;margin-bottom: 0;padding: 0.3em;box-sizing: border-box;text-align: center;}#sk-container-id-3 label.sk-toggleable__label-arrow:before {content: \"▸\";float: left;margin-right: 0.25em;color: #696969;}#sk-container-id-3 label.sk-toggleable__label-arrow:hover:before {color: black;}#sk-container-id-3 div.sk-estimator:hover label.sk-toggleable__label-arrow:before {color: black;}#sk-container-id-3 div.sk-toggleable__content {max-height: 0;max-width: 0;overflow: hidden;text-align: left;background-color: #f0f8ff;}#sk-container-id-3 div.sk-toggleable__content pre {margin: 0.2em;color: black;border-radius: 0.25em;background-color: #f0f8ff;}#sk-container-id-3 input.sk-toggleable__control:checked~div.sk-toggleable__content {max-height: 200px;max-width: 100%;overflow: auto;}#sk-container-id-3 input.sk-toggleable__control:checked~label.sk-toggleable__label-arrow:before {content: \"▾\";}#sk-container-id-3 div.sk-estimator input.sk-toggleable__control:checked~label.sk-toggleable__label {background-color: #d4ebff;}#sk-container-id-3 div.sk-label input.sk-toggleable__control:checked~label.sk-toggleable__label {background-color: #d4ebff;}#sk-container-id-3 input.sk-hidden--visually {border: 0;clip: rect(1px 1px 1px 1px);clip: rect(1px, 1px, 1px, 1px);height: 1px;margin: -1px;overflow: hidden;padding: 0;position: absolute;width: 1px;}#sk-container-id-3 div.sk-estimator {font-family: monospace;background-color: #f0f8ff;border: 1px dotted black;border-radius: 0.25em;box-sizing: border-box;margin-bottom: 0.5em;}#sk-container-id-3 div.sk-estimator:hover {background-color: #d4ebff;}#sk-container-id-3 div.sk-parallel-item::after {content: \"\";width: 100%;border-bottom: 1px solid gray;flex-grow: 1;}#sk-container-id-3 div.sk-label:hover label.sk-toggleable__label {background-color: #d4ebff;}#sk-container-id-3 div.sk-serial::before {content: \"\";position: absolute;border-left: 1px solid gray;box-sizing: border-box;top: 0;bottom: 0;left: 50%;z-index: 0;}#sk-container-id-3 div.sk-serial {display: flex;flex-direction: column;align-items: center;background-color: white;padding-right: 0.2em;padding-left: 0.2em;position: relative;}#sk-container-id-3 div.sk-item {position: relative;z-index: 1;}#sk-container-id-3 div.sk-parallel {display: flex;align-items: stretch;justify-content: center;background-color: white;position: relative;}#sk-container-id-3 div.sk-item::before, #sk-container-id-3 div.sk-parallel-item::before {content: \"\";position: absolute;border-left: 1px solid gray;box-sizing: border-box;top: 0;bottom: 0;left: 50%;z-index: -1;}#sk-container-id-3 div.sk-parallel-item {display: flex;flex-direction: column;z-index: 1;position: relative;background-color: white;}#sk-container-id-3 div.sk-parallel-item:first-child::after {align-self: flex-end;width: 50%;}#sk-container-id-3 div.sk-parallel-item:last-child::after {align-self: flex-start;width: 50%;}#sk-container-id-3 div.sk-parallel-item:only-child::after {width: 0;}#sk-container-id-3 div.sk-dashed-wrapped {border: 1px dashed gray;margin: 0 0.4em 0.5em 0.4em;box-sizing: border-box;padding-bottom: 0.4em;background-color: white;}#sk-container-id-3 div.sk-label label {font-family: monospace;font-weight: bold;display: inline-block;line-height: 1.2em;}#sk-container-id-3 div.sk-label-container {text-align: center;}#sk-container-id-3 div.sk-container {/* jupyter's `normalize.less` sets `[hidden] { display: none; }` but bootstrap.min.css set `[hidden] { display: none !important; }` so we also need the `!important` here to be able to override the default hidden behavior on the sphinx rendered scikit-learn.org. See: https://github.com/scikit-learn/scikit-learn/issues/21755 */display: inline-block !important;position: relative;}#sk-container-id-3 div.sk-text-repr-fallback {display: none;}</style><div id=\"sk-container-id-3\" class=\"sk-top-container\"><div class=\"sk-text-repr-fallback\"><pre>LogisticRegression()</pre><b>In a Jupyter environment, please rerun this cell to show the HTML representation or trust the notebook. <br />On GitHub, the HTML representation is unable to render, please try loading this page with nbviewer.org.</b></div><div class=\"sk-container\" hidden><div class=\"sk-item\"><div class=\"sk-estimator sk-toggleable\"><input class=\"sk-toggleable__control sk-hidden--visually\" id=\"sk-estimator-id-3\" type=\"checkbox\" checked><label for=\"sk-estimator-id-3\" class=\"sk-toggleable__label sk-toggleable__label-arrow\">LogisticRegression</label><div class=\"sk-toggleable__content\"><pre>LogisticRegression()</pre></div></div></div></div></div>"
      ],
      "text/plain": [
       "LogisticRegression()"
      ]
     },
     "execution_count": 55,
     "metadata": {},
     "output_type": "execute_result"
    }
   ],
   "source": [
    "# Logistic Regression\n",
    "from sklearn.linear_model import LogisticRegression\n",
    "\n",
    "log_reg = LogisticRegression()\n",
    "log_reg.fit(normalised_train_df, y_balanced)"
   ]
  },
  {
   "cell_type": "markdown",
   "id": "af79d247",
   "metadata": {},
   "source": [
    "### return\n",
    "> LogisticRegression(C=1.0, class_weight=None, dual=False, \n",
    "                   fit_intercept=True, intercept_scaling=1, l1_ratio=None, max_iter=100, \n",
    "                   multi_class='auto', n_jobs=None, penalty='l2', \n",
    "                   random_state=None, solver='lbfgs', tol=0.0001, verbose=0, \n",
    "                   warm_start=False)"
   ]
  },
  {
   "cell_type": "markdown",
   "id": "ce8a2cd1",
   "metadata": {},
   "source": [
    "### Cross Validation and Accuracy"
   ]
  },
  {
   "cell_type": "markdown",
   "id": "13865bfc",
   "metadata": {},
   "source": [
    "#### Performance Metrics"
   ]
  },
  {
   "cell_type": "code",
   "execution_count": 56,
   "id": "d3448c9b",
   "metadata": {},
   "outputs": [
    {
     "data": {
      "text/plain": [
       "array([[46, 27],\n",
       "       [64, 40]], dtype=int64)"
      ]
     },
     "execution_count": 56,
     "metadata": {},
     "output_type": "execute_result"
    }
   ],
   "source": [
    "# Confusion Matrix\n",
    "from sklearn.metrics import recall_score, accuracy_score, precision_score, f1_score, confusion_matrix\n",
    "\n",
    "new_predictions = log_reg.predict(normalised_test_df)\n",
    "cnf_mat = confusion_matrix(y_true=y_test, y_pred=new_predictions, labels=['2A', '3A'])\n",
    "cnf_mat"
   ]
  },
  {
   "cell_type": "code",
   "execution_count": 57,
   "id": "04d91cb9",
   "metadata": {},
   "outputs": [
    {
     "name": "stdout",
     "output_type": "stream",
     "text": [
      "Accuracy: 49\n"
     ]
    }
   ],
   "source": [
    "# Accuracy\n",
    "accuracy = accuracy_score(y_true=y_test, y_pred=new_predictions)\n",
    "print('Accuracy: {}'.format(round(accuracy*100), 2))"
   ]
  },
  {
   "cell_type": "code",
   "execution_count": 58,
   "id": "d7a8d67e",
   "metadata": {},
   "outputs": [
    {
     "name": "stdout",
     "output_type": "stream",
     "text": [
      "Precision: 42\n"
     ]
    }
   ],
   "source": [
    "# Precision\n",
    "precision = precision_score(y_true=y_test, y_pred=new_predictions, pos_label='2A')\n",
    "print('Precision: {}'.format(round(precision*100), 2))"
   ]
  },
  {
   "cell_type": "code",
   "execution_count": 59,
   "id": "062bc602",
   "metadata": {},
   "outputs": [
    {
     "name": "stdout",
     "output_type": "stream",
     "text": [
      "Recall: 63\n"
     ]
    }
   ],
   "source": [
    "# Recall\n",
    "recall = recall_score(y_true=y_test, y_pred=new_predictions, pos_label='2A')\n",
    "print('Recall: {}'.format(round(recall*100), 2))"
   ]
  },
  {
   "cell_type": "code",
   "execution_count": 60,
   "id": "18a1c3f5",
   "metadata": {},
   "outputs": [
    {
     "name": "stdout",
     "output_type": "stream",
     "text": [
      "F1: 50\n"
     ]
    }
   ],
   "source": [
    "# F1-Score\n",
    "f1 = f1_score(y_true=y_test, y_pred=new_predictions, pos_label='2A')\n",
    "print('F1: {}'.format(round(f1*100), 2)) #prints 45.0"
   ]
  },
  {
   "cell_type": "code",
   "execution_count": 61,
   "id": "b430b447",
   "metadata": {},
   "outputs": [
    {
     "data": {
      "text/plain": [
       "array([0.50179727, 0.50505051, 0.46710737, 0.54038562, 0.45777221])"
      ]
     },
     "execution_count": 61,
     "metadata": {},
     "output_type": "execute_result"
    }
   ],
   "source": [
    "# Cross validation\n",
    "from sklearn.model_selection import cross_val_score\n",
    "scores = cross_val_score(log_reg, normalised_train_df, y_balanced, cv=5, scoring='f1_macro')\n",
    "scores"
   ]
  },
  {
   "cell_type": "markdown",
   "id": "b33f7013",
   "metadata": {},
   "source": [
    "### K-fold Cross Validation"
   ]
  },
  {
   "cell_type": "code",
   "execution_count": 62,
   "id": "b0827f40",
   "metadata": {},
   "outputs": [],
   "source": [
    "from sklearn.model_selection import KFold\n",
    "\n",
    "kf = KFold(n_splits=5)\n",
    "kf.split(normalised_train_df)\n",
    "f1_scores = []\n",
    "\n",
    "#run for every split\n",
    "for train_index, test_index in kf.split(normalised_train_df):\n",
    "    x_train, x_test = normalised_train_df.iloc[train_index], normalised_train_df.iloc[test_index]\n",
    "    y_train, y_test = y_balanced[train_index], y_balanced[test_index]\n",
    "    model = LogisticRegression().fit(x_train, y_train)\n",
    "    #save result to list\n",
    "    f1_scores.append(f1_score(y_true=y_test, y_pred=model.predict(x_test), pos_label='2A')*100)"
   ]
  },
  {
   "cell_type": "markdown",
   "id": "335dc5c2",
   "metadata": {},
   "source": [
    "### Stratified K-Fold Cross Validation"
   ]
  },
  {
   "cell_type": "code",
   "execution_count": 63,
   "id": "1cddf91e",
   "metadata": {},
   "outputs": [],
   "source": [
    "from sklearn.model_selection import StratifiedKFold\n",
    "skf = StratifiedKFold(n_splits=5, shuffle=True, random_state=1)\n",
    "f1_scores = []\n",
    "\n",
    "#run for every split\n",
    "for train_index, test_index in skf.split(normalised_train_df, y_balanced):\n",
    "    x_train, x_test = np.array(normalised_train_df)[train_index], np.array(normalised_train_df)[test_index]\n",
    "    y_train, y_test = y_balanced[train_index], y_balanced[test_index]\n",
    "    model = LogisticRegression().fit(x_train, y_train)\n",
    "    #save result to list\n",
    "    f1_scores.append(f1_score(y_true=y_test, y_pred=model.predict(x_test), pos_label='2A'))"
   ]
  },
  {
   "cell_type": "markdown",
   "id": "0f6fc90a",
   "metadata": {},
   "source": [
    "### Leave One Out Cross Validation (LOOCV)"
   ]
  },
  {
   "cell_type": "code",
   "execution_count": 64,
   "id": "cd1f4dc1",
   "metadata": {},
   "outputs": [],
   "source": [
    "from sklearn.model_selection import LeaveOneOut\n",
    "loo = LeaveOneOut()\n",
    "scores = cross_val_score(LogisticRegression(), normalised_train_df, y_balanced, cv=loo, scoring='f1_macro')\n",
    "average_score = scores.mean() * 100"
   ]
  },
  {
   "cell_type": "markdown",
   "id": "52cd486c",
   "metadata": {},
   "source": [
    "### Tree-Based Methods"
   ]
  },
  {
   "cell_type": "code",
   "execution_count": 65,
   "id": "fc9d6fa7",
   "metadata": {},
   "outputs": [
    {
     "data": {
      "text/html": [
       "<style>#sk-container-id-4 {color: black;background-color: white;}#sk-container-id-4 pre{padding: 0;}#sk-container-id-4 div.sk-toggleable {background-color: white;}#sk-container-id-4 label.sk-toggleable__label {cursor: pointer;display: block;width: 100%;margin-bottom: 0;padding: 0.3em;box-sizing: border-box;text-align: center;}#sk-container-id-4 label.sk-toggleable__label-arrow:before {content: \"▸\";float: left;margin-right: 0.25em;color: #696969;}#sk-container-id-4 label.sk-toggleable__label-arrow:hover:before {color: black;}#sk-container-id-4 div.sk-estimator:hover label.sk-toggleable__label-arrow:before {color: black;}#sk-container-id-4 div.sk-toggleable__content {max-height: 0;max-width: 0;overflow: hidden;text-align: left;background-color: #f0f8ff;}#sk-container-id-4 div.sk-toggleable__content pre {margin: 0.2em;color: black;border-radius: 0.25em;background-color: #f0f8ff;}#sk-container-id-4 input.sk-toggleable__control:checked~div.sk-toggleable__content {max-height: 200px;max-width: 100%;overflow: auto;}#sk-container-id-4 input.sk-toggleable__control:checked~label.sk-toggleable__label-arrow:before {content: \"▾\";}#sk-container-id-4 div.sk-estimator input.sk-toggleable__control:checked~label.sk-toggleable__label {background-color: #d4ebff;}#sk-container-id-4 div.sk-label input.sk-toggleable__control:checked~label.sk-toggleable__label {background-color: #d4ebff;}#sk-container-id-4 input.sk-hidden--visually {border: 0;clip: rect(1px 1px 1px 1px);clip: rect(1px, 1px, 1px, 1px);height: 1px;margin: -1px;overflow: hidden;padding: 0;position: absolute;width: 1px;}#sk-container-id-4 div.sk-estimator {font-family: monospace;background-color: #f0f8ff;border: 1px dotted black;border-radius: 0.25em;box-sizing: border-box;margin-bottom: 0.5em;}#sk-container-id-4 div.sk-estimator:hover {background-color: #d4ebff;}#sk-container-id-4 div.sk-parallel-item::after {content: \"\";width: 100%;border-bottom: 1px solid gray;flex-grow: 1;}#sk-container-id-4 div.sk-label:hover label.sk-toggleable__label {background-color: #d4ebff;}#sk-container-id-4 div.sk-serial::before {content: \"\";position: absolute;border-left: 1px solid gray;box-sizing: border-box;top: 0;bottom: 0;left: 50%;z-index: 0;}#sk-container-id-4 div.sk-serial {display: flex;flex-direction: column;align-items: center;background-color: white;padding-right: 0.2em;padding-left: 0.2em;position: relative;}#sk-container-id-4 div.sk-item {position: relative;z-index: 1;}#sk-container-id-4 div.sk-parallel {display: flex;align-items: stretch;justify-content: center;background-color: white;position: relative;}#sk-container-id-4 div.sk-item::before, #sk-container-id-4 div.sk-parallel-item::before {content: \"\";position: absolute;border-left: 1px solid gray;box-sizing: border-box;top: 0;bottom: 0;left: 50%;z-index: -1;}#sk-container-id-4 div.sk-parallel-item {display: flex;flex-direction: column;z-index: 1;position: relative;background-color: white;}#sk-container-id-4 div.sk-parallel-item:first-child::after {align-self: flex-end;width: 50%;}#sk-container-id-4 div.sk-parallel-item:last-child::after {align-self: flex-start;width: 50%;}#sk-container-id-4 div.sk-parallel-item:only-child::after {width: 0;}#sk-container-id-4 div.sk-dashed-wrapped {border: 1px dashed gray;margin: 0 0.4em 0.5em 0.4em;box-sizing: border-box;padding-bottom: 0.4em;background-color: white;}#sk-container-id-4 div.sk-label label {font-family: monospace;font-weight: bold;display: inline-block;line-height: 1.2em;}#sk-container-id-4 div.sk-label-container {text-align: center;}#sk-container-id-4 div.sk-container {/* jupyter's `normalize.less` sets `[hidden] { display: none; }` but bootstrap.min.css set `[hidden] { display: none !important; }` so we also need the `!important` here to be able to override the default hidden behavior on the sphinx rendered scikit-learn.org. See: https://github.com/scikit-learn/scikit-learn/issues/21755 */display: inline-block !important;position: relative;}#sk-container-id-4 div.sk-text-repr-fallback {display: none;}</style><div id=\"sk-container-id-4\" class=\"sk-top-container\"><div class=\"sk-text-repr-fallback\"><pre>DecisionTreeClassifier()</pre><b>In a Jupyter environment, please rerun this cell to show the HTML representation or trust the notebook. <br />On GitHub, the HTML representation is unable to render, please try loading this page with nbviewer.org.</b></div><div class=\"sk-container\" hidden><div class=\"sk-item\"><div class=\"sk-estimator sk-toggleable\"><input class=\"sk-toggleable__control sk-hidden--visually\" id=\"sk-estimator-id-4\" type=\"checkbox\" checked><label for=\"sk-estimator-id-4\" class=\"sk-toggleable__label sk-toggleable__label-arrow\">DecisionTreeClassifier</label><div class=\"sk-toggleable__content\"><pre>DecisionTreeClassifier()</pre></div></div></div></div></div>"
      ],
      "text/plain": [
       "DecisionTreeClassifier()"
      ]
     },
     "execution_count": 65,
     "metadata": {},
     "output_type": "execute_result"
    }
   ],
   "source": [
    "from sklearn.tree import DecisionTreeClassifier\n",
    "\n",
    "dec_tree = DecisionTreeClassifier()\n",
    "dec_tree.fit(normalised_train_df, y_balanced)"
   ]
  },
  {
   "cell_type": "code",
   "execution_count": 67,
   "id": "3216b65c",
   "metadata": {},
   "outputs": [
    {
     "data": {
      "text/plain": [
       "array(['2A', '3A', '3A', '2A', '2A', '3A', '2A', '3A', '2A', '2A', '3A',\n",
       "       '3A', '2A', '3A', '3A', '2A', '2A', '3A', '3A', '3A', '3A', '3A',\n",
       "       '2A', '3A', '3A', '3A', '3A', '3A', '2A', '2A', '2A', '3A', '3A',\n",
       "       '2A', '2A', '3A', '2A', '2A', '3A', '2A', '2A', '3A', '3A', '2A',\n",
       "       '3A', '3A', '2A', '3A', '2A', '3A', '3A', '3A', '2A', '3A', '3A',\n",
       "       '3A', '3A', '2A', '2A', '2A', '3A', '3A', '2A', '2A', '2A', '3A',\n",
       "       '3A', '2A', '2A', '2A', '2A', '3A', '2A', '2A', '3A', '3A', '3A',\n",
       "       '3A', '2A', '3A', '2A', '2A', '3A', '2A', '2A', '3A', '3A', '2A',\n",
       "       '2A', '3A', '2A', '2A', '3A', '2A', '3A', '3A', '2A', '3A', '2A',\n",
       "       '2A', '3A', '2A', '2A', '3A', '3A', '2A', '3A', '2A', '3A', '3A',\n",
       "       '2A', '2A', '3A', '3A', '3A', '3A', '3A', '2A', '3A', '2A', '3A',\n",
       "       '2A', '3A', '3A', '3A', '2A', '3A', '3A', '3A', '3A', '3A', '3A',\n",
       "       '3A', '3A', '2A', '2A', '3A', '2A', '2A', '3A', '3A', '3A', '2A',\n",
       "       '3A', '2A', '2A', '2A', '2A', '2A', '3A', '3A', '2A', '2A', '3A',\n",
       "       '3A', '2A', '3A', '2A', '3A', '2A', '3A', '3A', '3A', '3A', '2A',\n",
       "       '2A', '2A', '2A', '2A', '2A', '2A', '2A', '2A', '3A', '3A', '3A',\n",
       "       '2A'], dtype=object)"
      ]
     },
     "execution_count": 67,
     "metadata": {},
     "output_type": "execute_result"
    }
   ],
   "source": [
    "dec_pred = dec_tree.predict(normalised_test_df)\n",
    "dec_pred[:10]"
   ]
  },
  {
   "cell_type": "code",
   "execution_count": 68,
   "id": "6eb7d96e",
   "metadata": {
    "scrolled": true
   },
   "outputs": [
    {
     "data": {
      "text/plain": [
       "1      3A\n",
       "2      3A\n",
       "3      3A\n",
       "6      3A\n",
       "7      2A\n",
       "       ..\n",
       "472    2A\n",
       "478    2A\n",
       "479    2A\n",
       "481    2A\n",
       "489    2A\n",
       "Name: QScore, Length: 98, dtype: object"
      ]
     },
     "execution_count": 68,
     "metadata": {},
     "output_type": "execute_result"
    }
   ],
   "source": [
    "y_test"
   ]
  },
  {
   "cell_type": "code",
   "execution_count": null,
   "id": "525a3432",
   "metadata": {},
   "outputs": [],
   "source": []
  }
 ],
 "metadata": {
  "kernelspec": {
   "display_name": "Python 3 (ipykernel)",
   "language": "python",
   "name": "python3"
  },
  "language_info": {
   "codemirror_mode": {
    "name": "ipython",
    "version": 3
   },
   "file_extension": ".py",
   "mimetype": "text/x-python",
   "name": "python",
   "nbconvert_exporter": "python",
   "pygments_lexer": "ipython3",
   "version": "3.9.12"
  }
 },
 "nbformat": 4,
 "nbformat_minor": 5
}
